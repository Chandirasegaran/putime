{
 "cells": [
  {
   "cell_type": "code",
   "execution_count": 91,
   "metadata": {},
   "outputs": [],
   "source": [
    "n=6\n",
    "l=10\n",
    "h=10\n",
    "s=10\n",
    "\n",
    "matrix=[[[0 for k in range(7)]for j in range(5)]for i in range(n)]"
   ]
  },
  {
   "cell_type": "code",
   "execution_count": 92,
   "metadata": {},
   "outputs": [
    {
     "name": "stdout",
     "output_type": "stream",
     "text": [
      "[[0, 0, 0, 0, 0, 0, 0], [0, 0, 0, 0, 0, 0, 0], [0, 0, 0, 0, 0, 0, 0], [0, 0, 0, 0, 0, 0, 0], [0, 0, 0, 0, 0, 0, 0]]\n",
      "[[0, 0, 0, 0, 0, 0, 0], [0, 0, 0, 0, 0, 0, 0], [0, 0, 0, 0, 0, 0, 0], [0, 0, 0, 0, 0, 0, 0], [0, 0, 0, 0, 0, 0, 0]]\n",
      "[[0, 0, 0, 0, 0, 0, 0], [0, 0, 0, 0, 0, 0, 0], [0, 0, 0, 0, 0, 0, 0], [0, 0, 0, 0, 0, 0, 0], [0, 0, 0, 0, 0, 0, 0]]\n",
      "[[0, 0, 0, 0, 0, 0, 0], [0, 0, 0, 0, 0, 0, 0], [0, 0, 0, 0, 0, 0, 0], [0, 0, 0, 0, 0, 0, 0], [0, 0, 0, 0, 0, 0, 0]]\n",
      "[[0, 0, 0, 0, 0, 0, 0], [0, 0, 0, 0, 0, 0, 0], [0, 0, 0, 0, 0, 0, 0], [0, 0, 0, 0, 0, 0, 0], [0, 0, 0, 0, 0, 0, 0]]\n",
      "[[0, 0, 0, 0, 0, 0, 0], [0, 0, 0, 0, 0, 0, 0], [0, 0, 0, 0, 0, 0, 0], [0, 0, 0, 0, 0, 0, 0], [0, 0, 0, 0, 0, 0, 0]]\n"
     ]
    }
   ],
   "source": [
    "for i in matrix:\n",
    "    print(i)"
   ]
  },
  {
   "cell_type": "code",
   "execution_count": 6,
   "metadata": {},
   "outputs": [
    {
     "name": "stdout",
     "output_type": "stream",
     "text": [
      "msc\n",
      "l l h h s s s \n",
      "l l h h s s s \n",
      "h h h h 0 0 0 \n",
      "h h 0 0 0 0 0 \n",
      "0 0 0 0 0 0 0 \n",
      "\n",
      "\n",
      "mtech\n",
      "h h l l s s s \n",
      "h h l l s s s \n",
      "l l h h 0 0 0 \n",
      "h h h h 0 0 0 \n",
      "h h 0 0 0 0 0 \n",
      "\n",
      "\n",
      "mca\n",
      "h h h h l l s \n",
      "h h h h s s s \n",
      "h h h h s s 0 \n",
      "h h h h 0 0 0 \n",
      "h h 0 0 0 0 0 \n",
      "\n",
      "\n",
      "msc-1\n",
      "h h h h s s s \n",
      "h h h h l l s \n",
      "h h l l s s 0 \n",
      "h h 0 0 0 0 0 \n",
      "0 0 0 0 0 0 0 \n",
      "\n",
      "\n",
      "mca-1\n",
      "h h h h s s s \n",
      "h h h h s s s \n",
      "h h h h l l 0 \n",
      "h h h h 0 0 0 \n",
      "h h 0 0 0 0 0 \n",
      "\n",
      "\n"
     ]
    }
   ],
   "source": [
    "for a in range(len(matrix)):\n",
    "    print(name[a])\n",
    "    for i in range(len(matrix[0])):\n",
    "        for j in range(len(matrix[0][0])):\n",
    "            print(matrix[a][i][j],end=\" \")\n",
    "        print()\n",
    "    print(\"\\n\")"
   ]
  },
  {
   "cell_type": "code",
   "execution_count": 2,
   "metadata": {},
   "outputs": [],
   "source": [
    "n=5\n",
    "name=[\"msc\",\"mtech\",\"mca\",\"msc-1\",\"mca-1\"]\n",
    "lab=[4,6,2,4,2]\n",
    "hard=[10,12,18,12,18]\n",
    "soft=[6,6,6,6,6]\n",
    "val=True\n",
    "matrix=[[[0 for k in range(7)]for j in range(5)]for i in range(n)]\n",
    "for a in range(len(matrix)):\n",
    "    l=lab[a]\n",
    "    while(l>0):\n",
    "        for i in range(len(matrix[0])):\n",
    "            for j in range(len(matrix[0][0])):\n",
    "                    for k in range(a):\n",
    "                        if(matrix[k][i][j]!='l'):\n",
    "                            val=True\n",
    "                        else:\n",
    "                            val=False\n",
    "                            break\n",
    "                    if(matrix[a][i][j]==0 and val==True and l>0 and j+1<6):\n",
    "                        matrix[a][i][j],matrix[a][i][j+1]='l','l'\n",
    "                        l-=2\n",
    "                        break\n",
    "for a in range(len(matrix)):\n",
    "    h=hard[a]\n",
    "    for i in range(len(matrix[0])):\n",
    "        for j in range(len(matrix[0][0])):\n",
    "            if(matrix[a][i][j]==0 and h>0 and j<4):\n",
    "                    matrix[a][i][j]='h'\n",
    "                    h-=1               \n",
    "    if(h>0):\n",
    "        for i in range(len(matrix[0])):\n",
    "            for j in range(len(matrix[0][0])):\n",
    "                if(matrix[a][i][j]==0 and h>0):\n",
    "                        matrix[a][i][j]='h'\n",
    "                        h-=1\n",
    "                    \n",
    "for a in range(len(matrix)):\n",
    "    s=soft[a]\n",
    "    for i in range(len(matrix[0])):\n",
    "        for j in range(len(matrix[0][0])):\n",
    "            if(matrix[a][i][j]==0 and s>0):\n",
    "                        matrix[a][i][j]='s'\n",
    "                        s-=1\n",
    "    if(s!=0):\n",
    "        print(\"impossible class \",a)\n",
    "staff=[\"uma\",\"ravi\",\"sub\",\"sj\",\"sujatha\"]\n",
    "s_matrix=[[[0 for k in range(7)]for j in range(5)]for i in range(len(staff))]\n",
    "subject=[[\"uma\",\"coms-231\",\"msc\",\"l\",2],[\"uma\",\"com-312\",\"mca\",\"l\",2],[\"uma\",\"coms-232\",\"msc\",\"l\",2]]\n",
    "        \n",
    "        "
   ]
  },
  {
   "cell_type": "code",
   "execution_count": 124,
   "metadata": {},
   "outputs": [],
   "source": [
    "for a in range(len(matrix)):\n",
    "    for i in range(len(matrix[0])):\n",
    "        for j in range(len(matrix[0][0])):\n",
    "            if(matrix[a][i][j]==\"l\" and matrix[a][i][j+1]==\"l\"):\n",
    "                for sub in subject:\n",
    "                    if(name.index(sub[2])==a and sub[-2]==\"l\" and sub[-1]>0):\n",
    "                        if(s_matrix[staff.index(sub[0])][i][j]==0 and s_matrix[staff.index(sub[0])][i][j+1]==0):\n",
    "                            s_matrix[staff.index(sub[0])][i][j],s_matrix[staff.index(sub[0])][i][j+1]=1,1\n",
    "                            matrix[a][i][j]=sub[1]\n",
    "                            matrix[a][i][j+1]=sub[1]\n",
    "                            sub[-1]=sub[-1]-2\n",
    "                "
   ]
  },
  {
   "cell_type": "code",
   "execution_count": 113,
   "metadata": {},
   "outputs": [
    {
     "name": "stdout",
     "output_type": "stream",
     "text": [
      "[[1, 1, 0, 0, 0, 0, 0], [0, 0, 0, 0, 0, 0, 0], [0, 0, 0, 0, 0, 0, 0], [0, 0, 0, 0, 0, 0, 0], [0, 0, 0, 0, 0, 0, 0]]\n"
     ]
    }
   ],
   "source": [
    "print(s_matrix[0])"
   ]
  },
  {
   "cell_type": "code",
   "execution_count": 108,
   "metadata": {},
   "outputs": [],
   "source": [
    "staff=[\"uma\",\"ravi\",\"sub\",\"sj\",\"sujatha\"]\n",
    "s_matrix=[[[0 for k in range(7)]for j in range(5)]for i in range(len(staff))]\n",
    "subject=[[\"uma\",\"coms-231\",\"msc\",\"l\",2],[\"uma\",\"com-312\",\"mtech\",\"h\",3]]"
   ]
  },
  {
   "cell_type": "code",
   "execution_count": 90,
   "metadata": {},
   "outputs": [
    {
     "name": "stdout",
     "output_type": "stream",
     "text": [
      "[[0, 0, 0, 0, 0, 0, 0], [0, 0, 0, 0, 0, 0, 0], [0, 0, 0, 0, 0, 0, 0], [0, 0, 0, 0, 0, 0, 0], [0, 0, 0, 0, 0, 0, 0]]\n"
     ]
    }
   ],
   "source": [
    "print(s_matrix[0])"
   ]
  }
 ],
 "metadata": {
  "kernelspec": {
   "display_name": "Python 3",
   "language": "python",
   "name": "python3"
  },
  "language_info": {
   "codemirror_mode": {
    "name": "ipython",
    "version": 3
   },
   "file_extension": ".py",
   "mimetype": "text/x-python",
   "name": "python",
   "nbconvert_exporter": "python",
   "pygments_lexer": "ipython3",
   "version": "3.11.7"
  }
 },
 "nbformat": 4,
 "nbformat_minor": 2
}
